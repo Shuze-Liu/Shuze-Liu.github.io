{
 "cells": [
  {
   "cell_type": "code",
   "execution_count": 1,
   "id": "1bbcc155",
   "metadata": {},
   "outputs": [],
   "source": [
    "import torch\n",
    "import numpy as np"
   ]
  },
  {
   "cell_type": "code",
   "execution_count": null,
   "id": "8db6cf64",
   "metadata": {},
   "outputs": [],
   "source": []
  },
  {
   "cell_type": "code",
   "execution_count": 6,
   "id": "41693631",
   "metadata": {},
   "outputs": [],
   "source": [
    "from typing import List, Union\n",
    "\n",
    "def print_T(*xs):\n",
    "    if not isinstance(xs, list) and not isinstance(xs, tuple):\n",
    "        xs = [xs,]\n",
    "    for x in xs:\n",
    "        if isinstance(x, torch.Tensor):\n",
    "            print(f'{x}\\n  shape {x.shape} offset {x.storage_offset()} stride: {x.stride()}, data_ptr={x.untyped_storage().data_ptr()}')\n",
    "        else: # numpy\n",
    "            offset = (x.__array_interface__['data'][0] - x.base.__array_interface__['data'][0]) // x.itemsize if x.base is not None else 0\n",
    "            print(f'{x}\\n  shape {x.shape} offset {offset} stride: {(np.array(x.strides) // 8).tolist()}, dtype: {x.dtype}')"
   ]
  },
  {
   "cell_type": "code",
   "execution_count": null,
   "id": "177a491f",
   "metadata": {},
   "outputs": [
    {
     "name": "stdout",
     "output_type": "stream",
     "text": [
      "3 1\n",
      "2 6\n",
      "1 30\n",
      "0 120\n",
      "4 [1, 1, 1, 1] torch.Size([3, 4, 5, 6]) (120, 30, 6, 1)\n"
     ]
    }
   ],
   "source": [
    "x = torch.ones(3, 4, 5, 6)\n",
    "# x_str = torch.tensor(x.shape).flip(dims=[0]).cumprod(0)\n",
    "ndim = len(x.shape)\n",
    "x_stride = [1] * ndim\n",
    "for i in reversed(range(0, ndim)):\n",
    "    x_stride[i] = x_stride[i+1] * x.shape[i]\n",
    "print(len(x.shape), x_stride, x.shape, x.stride())\n",
    "# print(x.stride(), x.shape, x_str)\n"
   ]
  },
  {
   "cell_type": "code",
   "execution_count": null,
   "id": "ec5f20e4",
   "metadata": {},
   "outputs": [],
   "source": [
    "# postfix multiply"
   ]
  },
  {
   "cell_type": "code",
   "execution_count": 55,
   "id": "718a799d",
   "metadata": {},
   "outputs": [
    {
     "name": "stdout",
     "output_type": "stream",
     "text": [
      "[[ 0  1  2  3]\n",
      " [ 4  5  6  7]\n",
      " [ 8  9 10 11]]\n",
      "  shape (3, 4) offset 0 stride: [4, 1], dtype: int64\n",
      "[[11 10  9  8]\n",
      " [ 7  6  5  4]\n",
      " [ 3  2  1  0]]\n",
      "  shape (3, 4) offset 11 stride: [-4, -1], dtype: int64\n"
     ]
    }
   ],
   "source": [
    "x = np.arange(12).reshape(3, 4)\n",
    "# print_T(x, np.flip(x, axis=[0]), np.flip(x, axis=[1]))\n",
    "print_T(x, np.flip(x, axis=[0, 1]))"
   ]
  },
  {
   "cell_type": "code",
   "execution_count": null,
   "id": "583883ec",
   "metadata": {},
   "outputs": [
    {
     "ename": "AttributeError",
     "evalue": "'numpy.ndarray' object has no attribute 'flip'",
     "output_type": "error",
     "traceback": [
      "\u001b[31m---------------------------------------------------------------------------\u001b[39m",
      "\u001b[31mAttributeError\u001b[39m                            Traceback (most recent call last)",
      "\u001b[36mCell\u001b[39m\u001b[36m \u001b[39m\u001b[32mIn[16]\u001b[39m\u001b[32m, line 1\u001b[39m\n\u001b[32m----> \u001b[39m\u001b[32m1\u001b[39m print_T(\u001b[43mx\u001b[49m\u001b[43m.\u001b[49m\u001b[43mflip\u001b[49m(dims=[\u001b[32m0\u001b[39m]))\n\u001b[32m      2\u001b[39m print_T(x.flip(dims=[\u001b[32m1\u001b[39m]))\n",
      "\u001b[31mAttributeError\u001b[39m: 'numpy.ndarray' object has no attribute 'flip'"
     ]
    }
   ],
   "source": [
    "print_T(x.flip(dims=[1]))"
   ]
  },
  {
   "cell_type": "code",
   "execution_count": null,
   "id": "5559d5c6",
   "metadata": {},
   "outputs": [],
   "source": [
    "x = torch.arange(18).reshape(2, 9, 1)"
   ]
  },
  {
   "cell_type": "code",
   "execution_count": 80,
   "id": "878f3c5b",
   "metadata": {},
   "outputs": [
    {
     "name": "stdout",
     "output_type": "stream",
     "text": [
      "tensor([[ 0,  1,  2,  3],\n",
      "        [ 4,  5,  6,  7],\n",
      "        [ 8,  9, 10, 11]])\n",
      "  shape torch.Size([3, 4]) offset 0 stride: (4, 1), data_ptr=123878912\n",
      "tensor([[5, 6, 7]])\n",
      "  shape torch.Size([1, 3]) offset 5 stride: (4, 1), data_ptr=123878912\n"
     ]
    }
   ],
   "source": [
    "# slice operator\n",
    "x = torch.arange(12).reshape(3, -1)\n",
    "print_T(x, x[1:2, 1:4])\n",
    "# yy = torch.arange(3)\n",
    "# print(yy, yy.shape, yy.stride())\n",
    "# print(tt.data, tt.shape, tt.stride())\n",
    "# print(x.unsqueeze(0).stride())"
   ]
  },
  {
   "cell_type": "code",
   "execution_count": 37,
   "id": "38d2fcad",
   "metadata": {},
   "outputs": [
    {
     "data": {
      "text/plain": [
       "True"
      ]
     },
     "execution_count": 37,
     "metadata": {},
     "output_type": "execute_result"
    }
   ],
   "source": [
    "x, x.T, x.T.stride()\n",
    "x.storage().data_ptr() == x.T.storage().data_ptr()"
   ]
  },
  {
   "cell_type": "code",
   "execution_count": 71,
   "id": "b4c7ccd4",
   "metadata": {},
   "outputs": [
    {
     "name": "stdout",
     "output_type": "stream",
     "text": [
      "tensor([[ 0,  1,  2,  3],\n",
      "        [ 4,  5,  6,  7],\n",
      "        [ 8,  9, 10, 11],\n",
      "        [12, 13, 14, 15]])\n",
      "  shape torch.Size([4, 4]) offset 0 stride: (4, 1), data_ptr=123689856\n",
      "tensor([[0, 1, 2, 3],\n",
      "        [4, 5, 6, 7]])\n",
      "  shape torch.Size([2, 4]) offset 0 stride: (4, 1), data_ptr=123689856\n"
     ]
    }
   ],
   "source": [
    "ex = torch.arange(16).reshape(4, -1)\n",
    "# idx = torch.Tensor([0, 1, 0, 1, 0, 1]).int()\n",
    "print_T(ex, ex[0:2])"
   ]
  },
  {
   "cell_type": "code",
   "execution_count": 79,
   "id": "cd8f9baa",
   "metadata": {},
   "outputs": [
    {
     "name": "stdout",
     "output_type": "stream",
     "text": [
      "tensor([[ 0,  1,  2,  3],\n",
      "        [ 4,  5,  6,  7],\n",
      "        [ 8,  9, 10, 11],\n",
      "        [12, 13, 14, 15]])\n",
      "  shape torch.Size([4, 4]) offset 0 stride: (4, 1), data_ptr=123689856\n",
      "tensor([[ 0,  1,  8,  9],\n",
      "        [ 4,  5, 12, 13],\n",
      "        [ 2,  3, 10, 11],\n",
      "        [ 6,  7, 14, 15]])\n",
      "  shape torch.Size([4, 4]) offset 0 stride: (4, 1), data_ptr=33555072\n"
     ]
    }
   ],
   "source": [
    "so = torch.vstack((torch.hstack((ex[:2, :2], ex[2:, :2])), torch.hstack((ex[:2, 2:], ex[2:, 2:]))))\n",
    "print_T(ex, so)"
   ]
  },
  {
   "cell_type": "code",
   "execution_count": 81,
   "id": "6075cf09",
   "metadata": {},
   "outputs": [
    {
     "name": "stdout",
     "output_type": "stream",
     "text": [
      "tensor([[[ 0,  1,  2,  3],\n",
      "         [ 4,  5,  6,  7],\n",
      "         [ 8,  9, 10, 11]],\n",
      "\n",
      "        [[12, 13, 14, 15],\n",
      "         [16, 17, 18, 19],\n",
      "         [20, 21, 22, 23]]])\n",
      "  shape torch.Size([2, 3, 4]) offset 0 stride: (12, 4, 1), data_ptr=33595840\n",
      "tensor([[[ 0,  4,  8],\n",
      "         [12, 16, 20]],\n",
      "\n",
      "        [[ 1,  5,  9],\n",
      "         [13, 17, 21]],\n",
      "\n",
      "        [[ 2,  6, 10],\n",
      "         [14, 18, 22]],\n",
      "\n",
      "        [[ 3,  7, 11],\n",
      "         [15, 19, 23]]])\n",
      "  shape torch.Size([4, 2, 3]) offset 0 stride: (1, 12, 4), data_ptr=33595840\n"
     ]
    }
   ],
   "source": [
    "a = torch.arange(24).reshape(2, 3, 4)\n",
    "b = a.permute(2, 0, 1)\n",
    "print_T(a, b)"
   ]
  },
  {
   "cell_type": "code",
   "execution_count": 105,
   "id": "0b70bf3d",
   "metadata": {},
   "outputs": [
    {
     "name": "stdout",
     "output_type": "stream",
     "text": [
      "tensor([0, 1, 2, 3])\n",
      "  shape torch.Size([4]) offset 0 stride: (1,), data_ptr=123953600\n",
      "tensor([[[0, 1, 2, 3],\n",
      "         [0, 1, 2, 3],\n",
      "         [0, 1, 2, 3]],\n",
      "\n",
      "        [[0, 1, 2, 3],\n",
      "         [0, 1, 2, 3],\n",
      "         [0, 1, 2, 3]]])\n",
      "  shape torch.Size([2, 3, 4]) offset 0 stride: (0, 0, 1), data_ptr=123953600\n"
     ]
    }
   ],
   "source": [
    "t = torch.arange(24).reshape(2, 3, 4)\n",
    "x = torch.arange(4)\n",
    "print_T(x, x.expand_as(t))"
   ]
  },
  {
   "cell_type": "code",
   "execution_count": null,
   "id": "a4f904f3",
   "metadata": {},
   "outputs": [
    {
     "ename": "RuntimeError",
     "evalue": "permute(sparse_coo): number of dimensions in the tensor input does not match the length of the desired ordering of dimensions i.e. input.dim() = 3 is not equal to len(dims) = 2",
     "output_type": "error",
     "traceback": [
      "\u001b[31m---------------------------------------------------------------------------\u001b[39m",
      "\u001b[31mRuntimeError\u001b[39m                              Traceback (most recent call last)",
      "\u001b[36mCell\u001b[39m\u001b[36m \u001b[39m\u001b[32mIn[115]\u001b[39m\u001b[32m, line 8\u001b[39m\n\u001b[32m      6\u001b[39m     print_T(tg1, tg2)\n\u001b[32m      7\u001b[39m \u001b[38;5;66;03m# my_permutation(t, torch.Tensor([2, 0, 1]).int())\u001b[39;00m\n\u001b[32m----> \u001b[39m\u001b[32m8\u001b[39m print_T(\u001b[43mt\u001b[49m\u001b[43m.\u001b[49m\u001b[43mpermute\u001b[49m\u001b[43m(\u001b[49m\u001b[32;43m2\u001b[39;49m\u001b[43m,\u001b[49m\u001b[43m \u001b[49m\u001b[32;43m0\u001b[39;49m\u001b[43m)\u001b[49m)\n",
      "\u001b[31mRuntimeError\u001b[39m: permute(sparse_coo): number of dimensions in the tensor input does not match the length of the desired ordering of dimensions i.e. input.dim() = 3 is not equal to len(dims) = 2"
     ]
    }
   ],
   "source": [
    "def my_permutation(x: torch.Tensor, perm: torch.Tensor):\n",
    "    newshape = (torch.Tensor(tuple(x.shape)).int())[perm]\n",
    "    newstride = (torch.Tensor(x.stride()).int())[perm]\n",
    "    tg1 = x.as_strided(tuple(newshape), tuple(newstride), x.storage_offset())\n",
    "    tg2 = x.permute(tuple(perm))\n",
    "    print_T(tg1, tg2)\n",
    "# my_permutation(t, torch.Tensor([2, 0, 1]).int())"
   ]
  },
  {
   "cell_type": "code",
   "execution_count": 99,
   "id": "c6993815",
   "metadata": {},
   "outputs": [
    {
     "name": "stdout",
     "output_type": "stream",
     "text": [
      "38 24\n"
     ]
    }
   ],
   "source": [
    "print(304//8, 192//8)"
   ]
  }
 ],
 "metadata": {
  "kernelspec": {
   "display_name": "base",
   "language": "python",
   "name": "python3"
  },
  "language_info": {
   "codemirror_mode": {
    "name": "ipython",
    "version": 3
   },
   "file_extension": ".py",
   "mimetype": "text/x-python",
   "name": "python",
   "nbconvert_exporter": "python",
   "pygments_lexer": "ipython3",
   "version": "3.11.10"
  }
 },
 "nbformat": 4,
 "nbformat_minor": 5
}
